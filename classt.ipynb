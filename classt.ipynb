{
 "cells": [
  {
   "cell_type": "code",
   "execution_count": 2,
   "metadata": {
    "scrolled": true
   },
   "outputs": [
    {
     "name": "stdout",
     "output_type": "stream",
     "text": [
      "﻿\r\n",
      "<html>\n",
      "<head>\n",
      "<meta content=\"no-cache\" http-equiv=\"pragma\"/>\n",
      "<meta content=\"no-cache\" http-equiv=\"cache-control\"/>\n",
      "<meta content=\"text/html;charset=utf-8\" http-equiv=\"content-type\"/>\n",
      "<title>班級課程查詢</title>\n",
      "</head>\n",
      "<frameset border=\"0\" frameborder=\"0\" framespacing=\"0\" rows=\"250,*\">\n",
      "<frame name=\"304_top\" noresize=\"\" scrolling=\"no\" src=\"ag304_01.jsp?uid=null\"/>\n",
      "<frame id=\"304_bottom\" name=\"304_bottom\" src=\"../blank.html\"/>\n",
      "<noframes>\n",
      "<p>此網頁使用框架,但是您的瀏覽器並不支援.</p>\n",
      "</noframes>\n",
      "</frameset>\n",
      "</html>\n"
     ]
    }
   ],
   "source": [
    "import requests\n",
    "from bs4 import BeautifulSoup\n",
    "\n",
    "resp = requests.get('https://shcourse.utaipei.edu.tw/utaipei/ag_pro/ag304.jsp?')\n",
    "soup = BeautifulSoup(resp.text, 'html.parser')\n",
    "print(soup)"
   ]
  },
  {
   "cell_type": "code",
   "execution_count": 59,
   "metadata": {
    "scrolled": false
   },
   "outputs": [],
   "source": [
    "from selenium import webdriver\n",
    "from selenium.webdriver.common.by import By\n",
    "from selenium.webdriver.support.ui import Select\n",
    "from bs4 import BeautifulSoup\n",
    "import time\n",
    "\n",
    "driver = webdriver.Chrome()\n",
    "url = 'https://shcourse.utaipei.edu.tw/utaipei/ag_pro/ag304.jsp?'\n",
    "#等待載入\n",
    "driver.get(url)\n",
    "time.sleep(1)\n",
    "#\n",
    "#search_box = driver.find_element(\"name\", \"q\")\n",
    "#\n",
    "\n",
    "find_frame = driver.find_element(By.TAG_NAME, 'frame')\n",
    "\n",
    "#driver.switch_to.frame(driver.find_elements_by_tag_name('iframe')[0])\n",
    "driver.switch_to.frame(find_frame)\n",
    "\n",
    "##\n",
    "\n",
    "# 等待一些時間，以確保網頁完全載入（你可能需要根據實際情況調整等待時間）\n",
    "time.sleep(2)\n",
    "\n",
    "# 使用Select定位下拉式標籤\n",
    "selectyms = Select(driver.find_element(By.NAME, 'yms_yms'))\n",
    "# 選擇下拉式標籤中的選項\n",
    "selectyms.select_by_value('112#2')\n",
    "\n",
    "# 再等待一些時間，以確保網頁已經根據選擇刷新\n",
    "time.sleep(1)\n",
    "\n",
    "# 使用Select定位下拉式標籤\n",
    "selectdpt = Select(driver.find_element(By.NAME, 'dpt_id'))\n",
    "# 選擇下拉式標籤中的選項\n",
    "selectdpt.select_by_visible_text(u\"理學院\")\n",
    "\n",
    "# 再等待一些時間，以確保網頁已經根據選擇刷新\n",
    "time.sleep(1)\n",
    "\n",
    "\n",
    "# 使用Select定位下拉式標籤\n",
    "selectunt = Select(driver.find_element(By.NAME, 'unt_id'))\n",
    "# 選擇下拉式標籤中的選項\n",
    "selectunt.select_by_visible_text(u\"數學系\")\n",
    "\n",
    "# 再等待一些時間，以確保網頁已經根據選擇刷新\n",
    "time.sleep(1)\n",
    "\n",
    "\n",
    "button = driver.find_element(By.ID, 'unit_serch')\n",
    "button.click()\n",
    "\n",
    "# 取得網頁內容\n",
    "page_source = driver.page_source\n",
    "\n",
    "\n",
    "\n",
    "\n",
    "\n",
    "##\n",
    "\n",
    "#\n",
    "#driver.switch_to.frame(0)\n",
    "#driver.find_element_by_link_text(\"Partner\").click()\n",
    "#\n",
    "#frame_html = driver.page_source\n",
    "\n",
    "\n",
    "\n",
    "#resp = requests.get(url)\n",
    "#soup = BeautifulSoup(frame_html, 'html.parser')\n",
    "#print(soup)\n",
    "\n",
    "\n",
    "#\n",
    "\n",
    "\n",
    "#driver.switch_to.default_content()\n",
    "\n",
    "#html = driver.page_source"
   ]
  },
  {
   "cell_type": "code",
   "execution_count": null,
   "metadata": {},
   "outputs": [],
   "source": []
  }
 ],
 "metadata": {
  "kernelspec": {
   "display_name": "Python 3",
   "language": "python",
   "name": "python3"
  },
  "language_info": {
   "codemirror_mode": {
    "name": "ipython",
    "version": 3
   },
   "file_extension": ".py",
   "mimetype": "text/x-python",
   "name": "python",
   "nbconvert_exporter": "python",
   "pygments_lexer": "ipython3",
   "version": "3.7.4"
  }
 },
 "nbformat": 4,
 "nbformat_minor": 2
}
